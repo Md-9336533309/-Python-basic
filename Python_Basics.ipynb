{
  "nbformat": 4,
  "nbformat_minor": 0,
  "metadata": {
    "colab": {
      "provenance": []
    },
    "kernelspec": {
      "name": "python3",
      "display_name": "Python 3"
    },
    "language_info": {
      "name": "python"
    }
  },
  "cells": [
    {
      "cell_type": "markdown",
      "source": [
        "# Python Basics Questions"
      ],
      "metadata": {
        "id": "0YcTKEMHsHoz"
      }
    },
    {
      "cell_type": "markdown",
      "source": [
        "# 1. What is Python, and why is it popular?\n",
        "\n",
        " Python is a high-level, easy-to-learn programming language used to build software, websites, apps, games, do data analysis, automate tasks, and much more.\n",
        "\n",
        "In Simple Words:\n",
        "Python is like a smart assistant—it understands you easily and helps you do many things quickly without making things complicated.\n",
        "\n",
        "It was created by Guido van Rossum and released in 1991.\n",
        "\n",
        "Why is Python So Popular?\n",
        "\n",
        "❎ Python is loved by beginners and professionals alike for these key reasons:\n",
        "\n",
        "1. Easy to Read & Write\n",
        "2. Beginner-Friendly\n",
        "3. Versatile\n",
        "4. Huge Community\n",
        "5. Free and Open Source\n",
        "6. Cross-Platform\n"
      ],
      "metadata": {
        "id": "RVXvYcDuIpsz"
      }
    },
    {
      "cell_type": "markdown",
      "source": [
        "# 2. What is an interpreter in Python?\n",
        "\n",
        " An interpreter is like a translator  that reads your Python code line by line and executes it (runs it).\n",
        "\n"
      ],
      "metadata": {
        "id": "DCN9QuaJK5-A"
      }
    },
    {
      "cell_type": "markdown",
      "source": [
        "# 3. What are pre-defined keywords in Python?\n",
        "\n",
        "Pre-defined keywords in Python are special reserved words that have fixed meanings in the language.\n",
        "You cannot use them as names for your variables, functions, or identifiers.\n",
        "\n",
        "Examples of Pre-defined Keywords in Python:\n",
        "\n",
        "| Keyword          | Meaning                           |\n",
        "| ---------------- | --------------------------------- |\n",
        "| `if`             | Used for conditions (if...else)   |\n",
        "| `else`           | Used with `if` for alternatives   |\n",
        "| `elif`           | Else if (more conditions)         |\n",
        "| `for`            | For loop                          |\n",
        "| `while`          | While loop                        |\n",
        "| `def`            | To define a function              |\n",
        "| `return`         | To return a value from a function |\n",
        "| `True` / `False` | Boolean values                    |\n",
        "| `None`           | Represents nothing/empty          |\n",
        "| `class`          | To create a class (OOP)           |\n",
        "| `import`         | To import modules                 |\n",
        "| `break`          | To break out of a loop            |\n",
        "| `continue`       | To skip to next loop iteration    |\n",
        "| `try` / `except` | For error handling                |\n",
        "| `in`             | To check membership (`x in list`) |\n",
        "| `is`             | To check object identity          |\n",
        "\n",
        "\n",
        "\n"
      ],
      "metadata": {
        "id": "uoBPMIqzL6eh"
      }
    },
    {
      "cell_type": "markdown",
      "source": [
        "# 4. Can keywords be used as variable names?\n",
        "No, you cannot use Python keywords as variable names.\n",
        "\n"
      ],
      "metadata": {
        "id": "tV17x5cTNxrt"
      }
    },
    {
      "cell_type": "markdown",
      "source": [
        "# 5. What is mutability in Python?\n",
        "\n",
        "Mutability in Python means whether a value (object) can be changed after it is created.\n",
        "\n",
        "In Simple Words:\n",
        "\n",
        "1.If an object can be changed, it is mutable.\n",
        "\n",
        "2.If it cannot be changed, it is immutable."
      ],
      "metadata": {
        "id": "ZSHE5BItO1j0"
      }
    },
    {
      "cell_type": "markdown",
      "source": [
        "# 6. Why are lists mutable, but tuples are immutable?\n",
        "\n",
        "1.Lists are mutable → you can change, add, or remove items.\n",
        "\n",
        "2.Tuples are immutable → once created, you cannot change their content.\n",
        "\n",
        "\n",
        "| Feature     | List                         | Tuple                         |\n",
        "| ----------- | ---------------------------- | ----------------------------- |\n",
        "| Mutability  | ✅ Yes                        | ❌ No                          |\n",
        "| Purpose     | Designed to **change often** | Designed to **stay constant** |\n",
        "| Syntax      | `[1, 2, 3]`                  | `(1, 2, 3)`                   |\n",
        "| Performance | Slower (more flexible)       | Faster (more fixed)           |\n",
        "| Use case    | Dynamic data                 | Fixed, safe data              |\n"
      ],
      "metadata": {
        "id": "n7M2a4jIPX73"
      }
    },
    {
      "cell_type": "markdown",
      "source": [
        "# 7. What is the difference between “==” and “is” operators in Python?\n",
        "\n",
        "Both == and is are comparison operators, but they are very different.\n",
        "\n",
        "1. == (Equality Operator)\n",
        "Checks whether the values of two variables are the same.\n",
        "2. is (Identity Operator)\n",
        "Checks whether two variables point to the same object in memory.\n",
        "\n",
        "| Expression | Meaning                          | Example Result |\n",
        "| ---------- | -------------------------------- | -------------- |\n",
        "| `a == b`   | Do `a` and `b` have same values? | ✅ True         |\n",
        "| `a is b`   | Are `a` and `b` the same object? | ❌ False        |\n"
      ],
      "metadata": {
        "id": "RdqfvC2eQ3__"
      }
    },
    {
      "cell_type": "markdown",
      "source": [
        "# 8. What are logical operators in Python?\n",
        "\n",
        "Logical operators are used to combine multiple conditions (True/False) in Python.\n",
        "\n",
        " Python Has 3 Logical Operators:\n",
        "\n",
        " | Operator | Meaning                     | Example                |\n",
        "| -------- | --------------------------- | ---------------------- |\n",
        "| `and`    | True **if both** are True   | `True and True → True` |\n",
        "| `or`     | True **if any one** is True | `True or False → True` |\n",
        "| `not`    | Flips the result            | `not True → False`     |\n"
      ],
      "metadata": {
        "id": "7Zv5rENRTuMR"
      }
    },
    {
      "cell_type": "markdown",
      "source": [
        "# 9. What is type casting in Python?\n",
        "\n",
        "Type casting means converting one data type into another.\n",
        "\n",
        "\n",
        "Simple Definition:\n",
        "\n",
        "Type casting is when you change the type of a value — like turning a number into a string, or a string into a number.\n",
        "\n",
        "\n",
        "Common Type Casting Functions in Python:\n",
        "\n",
        "\n",
        "| Function  | Converts to...        | Example                         |\n",
        "| --------- | --------------------- | ------------------------------- |\n",
        "| `int()`   | Integer               | `int(\"10\") → 10`                |\n",
        "| `float()` | Floating-point number | `float(\"3.5\") → 3.5`            |\n",
        "| `str()`   | String                | `str(5) → \"5\"`                  |\n",
        "| `bool()`  | Boolean               | `bool(0) → False`               |\n",
        "| `list()`  | List                  | `list(\"abc\") → ['a', 'b', 'c']` |\n",
        "\n"
      ],
      "metadata": {
        "id": "cIo9ccEvWtMe"
      }
    },
    {
      "cell_type": "markdown",
      "source": [
        "# 10. What is the difference between implicit and explicit type casting?\n",
        "\n",
        "\n",
        "1. Implicit Type Casting (Done by Python Automatically)\n",
        "Python automatically converts one type to another when needed — you don't write any code for it.\n",
        "\n",
        " Python does this when it's safe and won’t lose data.\n",
        "\n",
        "\n",
        "2. Explicit Type Casting (You Do It Yourself)\n",
        "You manually convert one type to another using functions like int(), float(), str(), etc.\n",
        "\n",
        "Summary:\n",
        "\n",
        "| Type         | What It Means                  |\n",
        "| ------------ | ------------------------------ |\n",
        "| **Implicit** | Python changes type for you    |\n",
        "| **Explicit** | You tell Python to change type |\n",
        "\n"
      ],
      "metadata": {
        "id": "ypazn-vWcWMh"
      }
    },
    {
      "cell_type": "markdown",
      "source": [
        "# 11. What is the purpose of conditional statements in Python?\n",
        "\n",
        "Conditional statements are used to make decisions in your code — just like making choices in real life.\n",
        "\n",
        "\n",
        "Simple Definition:\n",
        "\n",
        "Conditional statements let your program do something only if a certain condition is True.\n",
        "\n",
        "It helps Python decide:\n",
        "\n",
        "\"If this is true, do this. Otherwise, do something else.\"\n",
        "\n"
      ],
      "metadata": {
        "id": "h8v98_T1gOZZ"
      }
    },
    {
      "cell_type": "markdown",
      "source": [
        "# 12. How does the elif statement work?\n",
        "\n",
        "The elif statement means \"else if\" — it’s used when you have multiple conditions to check, not just one.\n",
        "\n",
        "\n",
        "Simple Definition:\n",
        "\n",
        "elif lets you check more than one condition when the first if is False.\n",
        "\n",
        "\n",
        "Example:\n",
        "\n",
        "marks = 75\n",
        "\n",
        "if marks >= 90:\n",
        "    print(\"Grade: A\")\n",
        "\n",
        "elif marks >= 75:\n",
        "    print(\"Grade: B\")\n",
        "\n",
        "elif marks >= 60:\n",
        "    print(\"Grade: C\")\n",
        "\n",
        "else:\n",
        "    print(\"Grade: D\")\n",
        "\n",
        "    Output: Grade: B\n",
        "Because the marks is 75, and it matches the second condition.\n",
        "\n"
      ],
      "metadata": {
        "id": "R2wWATYBhJZ6"
      }
    },
    {
      "cell_type": "markdown",
      "source": [
        "# 13. What is the difference between for and while loops?\n",
        "\n",
        "Both for and while are used to repeat code (called loops) — but they are used in different situations.\n",
        "\n",
        "\n",
        "\n",
        "Comparison Table:\n",
        "\n",
        "\n",
        "| Feature       | `for` Loop                                   | `while` Loop                                       |\n",
        "| ------------- | -------------------------------------------- | -------------------------------------------------- |\n",
        "|  Purpose    | Use when you **know how many times** to loop | Use when you **don’t know how many times** to loop |\n",
        "|  Based on   | A **sequence** (like list, range, etc.)      | A **condition** (True/False)                       |\n",
        "|  Stops When | Sequence ends                                | Condition becomes False                            |\n",
        "|  Common Use | Iterating over items like list, string, etc. | Repeating until a user input or condition changes  |\n",
        "|  Best For   | Counting, fixed steps                        | Waiting, repeating unknown number of times         |\n",
        "\n",
        "\n",
        " Summary:\n",
        "\n",
        " | Loop Type | Use When...                            |\n",
        "| --------- | -------------------------------------- |\n",
        "| `for`     | You know how many times to repeat      |\n",
        "| `while`   | You repeat **until** something changes |\n",
        "\n",
        "\n"
      ],
      "metadata": {
        "id": "_rnGOYWgmPGJ"
      }
    },
    {
      "cell_type": "markdown",
      "source": [
        "# 14. Describe a scenario where a while loop is more suitable than a for loop.\n",
        "\n",
        "\n",
        "Real-Life Scenario Example:\n",
        "Scenario: ATM PIN Verification\n",
        "\n",
        "You want to allow a user to enter their ATM PIN, and they have only 3 chances to enter the correct PIN. The user should keep trying until the correct PIN is entered or the number of tries runs out.\n",
        "\n",
        "\n",
        "Why use while loop here?\n",
        "Because we don’t know how many times the user will get the PIN wrong.\n",
        "\n",
        "We stop either when the correct PIN is entered or after 3 wrong tries — both are condition-based.\n",
        "\n",
        "\n",
        "\n"
      ],
      "metadata": {
        "id": "yhAOfgDcnbbp"
      }
    },
    {
      "cell_type": "markdown",
      "source": [
        "# Practical Questions"
      ],
      "metadata": {
        "id": "IVShWwsQrzbP"
      }
    },
    {
      "cell_type": "markdown",
      "source": [
        "# 1. Write a Python program to print \"Hello, World!\"\n"
      ],
      "metadata": {
        "id": "dINajvrLqC5T"
      }
    },
    {
      "cell_type": "code",
      "source": [
        "print(\"Hello, World!\")"
      ],
      "metadata": {
        "colab": {
          "base_uri": "https://localhost:8080/"
        },
        "id": "KdLX6TGprPbF",
        "outputId": "f1006356-0663-42c5-e2e6-84c6c98acd36"
      },
      "execution_count": 6,
      "outputs": [
        {
          "output_type": "stream",
          "name": "stdout",
          "text": [
            "Hello, World!\n"
          ]
        }
      ]
    },
    {
      "cell_type": "markdown",
      "source": [
        "# 2. Write a Python program that displays your name and age.\n"
      ],
      "metadata": {
        "id": "yoWMXsS5sKb5"
      }
    },
    {
      "cell_type": "code",
      "source": [
        "\n",
        "\n",
        "name = \"Tahir\"\n",
        "age = 25\n",
        "\n",
        "print(\"My name is\", name)\n",
        "print(\"I am\", 25, \"years old\")\n"
      ],
      "metadata": {
        "colab": {
          "base_uri": "https://localhost:8080/"
        },
        "id": "6ZTRNrEisuXK",
        "outputId": "67dde6fe-d922-4910-ac6b-2e6508e233fc"
      },
      "execution_count": 12,
      "outputs": [
        {
          "output_type": "stream",
          "name": "stdout",
          "text": [
            "My name is Tahir\n",
            "I am 25 years old\n"
          ]
        }
      ]
    },
    {
      "cell_type": "markdown",
      "source": [
        "# 3. Write code to print all the pre-defined keywords in Python using the keyword library."
      ],
      "metadata": {
        "id": "awdCcX98tdO7"
      }
    },
    {
      "cell_type": "code",
      "source": [
        "# Importing the keyword module\n",
        "import keyword\n",
        "\n",
        "# Getting the list of all Python keywords\n",
        "keywords = keyword.kwlist\n",
        "\n",
        "# Printing the keywords\n",
        "print(\"Python Keywords are:\")\n",
        "for kw in keywords:\n",
        "    print(kw)\n"
      ],
      "metadata": {
        "colab": {
          "base_uri": "https://localhost:8080/"
        },
        "id": "P4sdj79czDxb",
        "outputId": "35b04325-6f7b-488e-a450-381d5b6a71a0"
      },
      "execution_count": 15,
      "outputs": [
        {
          "output_type": "stream",
          "name": "stdout",
          "text": [
            "Python Keywords are:\n",
            "False\n",
            "None\n",
            "True\n",
            "and\n",
            "as\n",
            "assert\n",
            "async\n",
            "await\n",
            "break\n",
            "class\n",
            "continue\n",
            "def\n",
            "del\n",
            "elif\n",
            "else\n",
            "except\n",
            "finally\n",
            "for\n",
            "from\n",
            "global\n",
            "if\n",
            "import\n",
            "in\n",
            "is\n",
            "lambda\n",
            "nonlocal\n",
            "not\n",
            "or\n",
            "pass\n",
            "raise\n",
            "return\n",
            "try\n",
            "while\n",
            "with\n",
            "yield\n"
          ]
        }
      ]
    },
    {
      "cell_type": "markdown",
      "source": [
        "# 4. Write a program that checks if a given word is a Python keyword."
      ],
      "metadata": {
        "id": "83F7SiT6zZcW"
      }
    },
    {
      "cell_type": "code",
      "source": [
        "# Import the keyword module\n",
        "import keyword\n",
        "\n",
        "# Ask the user to enter a word\n",
        "word = input(\"Enter a word: \")\n",
        "\n",
        "# Check if the word is a Python keyword\n",
        "if keyword.iskeyword(word):\n",
        "    print(f\"'{word}' is a Python keyword.\")\n",
        "else:\n",
        "    print(f\"'{word}' is NOT a Python keyword.\")\n"
      ],
      "metadata": {
        "colab": {
          "base_uri": "https://localhost:8080/"
        },
        "id": "3zXIHwTbzXvF",
        "outputId": "79511bf4-2624-42c1-a36f-991f43b2a4bb"
      },
      "execution_count": 16,
      "outputs": [
        {
          "output_type": "stream",
          "name": "stdout",
          "text": [
            "Enter a word: while\n",
            "'while' is a Python keyword.\n"
          ]
        }
      ]
    },
    {
      "cell_type": "markdown",
      "source": [
        "# 5. Create a list and tuple in Python, and demonstrate how attempting to change an element works differently for each."
      ],
      "metadata": {
        "id": "SNSkDNsKAIdR"
      }
    },
    {
      "cell_type": "code",
      "source": [
        "# Create a list\n",
        "my_list = [10, 20, 30]\n",
        "\n",
        "# Create a tuple\n",
        "my_tuple = (10, 20, 30)\n"
      ],
      "metadata": {
        "id": "ilGldqDD0d8U"
      },
      "execution_count": 17,
      "outputs": []
    },
    {
      "source": [
        "# Change element in the list\n",
        "my_list[1] = 200\n",
        "print(\"Modified list:\", my_list)\n",
        "\n",
        "# Try changing element in the tuple (this will cause an error!)\n",
        "try:\n",
        "    my_tuple[1] = 200\n",
        "    print(\"Modified tuple:\", my_tuple)\n",
        "except TypeError as e:\n",
        "    print(f\"Error trying to modify tuple: {e}\")\n",
        "    print(\"This is because tuples are immutable.\")"
      ],
      "cell_type": "code",
      "metadata": {
        "colab": {
          "base_uri": "https://localhost:8080/"
        },
        "id": "ImEI4MyFGbwz",
        "outputId": "328afba0-9fd5-4763-ce9a-e55e521f36f9"
      },
      "execution_count": 19,
      "outputs": [
        {
          "output_type": "stream",
          "name": "stdout",
          "text": [
            "Modified list: [10, 200, 30]\n",
            "Error trying to modify tuple: 'tuple' object does not support item assignment\n",
            "This is because tuples are immutable.\n"
          ]
        }
      ]
    },
    {
      "cell_type": "markdown",
      "source": [
        "# 6. Write a function to demonstrate the behavior of mutable and immutable arguments.\n",
        "\n",
        "Mutable types (like lists, dictionaries) can be changed inside a function.\n",
        "\n",
        "Immutable types (like integers, strings, tuples) cannot be changed inside a function — only copies are modified."
      ],
      "metadata": {
        "id": "mzaV-iLEGtEU"
      }
    },
    {
      "cell_type": "code",
      "source": [
        "def change_values(num, my_list):\n",
        "    num += 10              # Try to change immutable (int)\n",
        "    my_list.append(100)    # Try to change mutable (list)\n",
        "\n",
        "    print(\"Inside function:\")\n",
        "    print(\"num =\", num)\n",
        "    print(\"my_list =\", my_list)\n",
        "\n",
        "# Immutable variable\n",
        "x = 5\n",
        "\n",
        "# Mutable variable\n",
        "lst = [1, 2, 3]\n",
        "\n",
        "# Call the function\n",
        "change_values(x, lst)\n",
        "\n",
        "# Check values after the function call\n",
        "print(\"\\nOutside function:\")\n",
        "print(\"x =\", x)\n",
        "print(\"lst =\", lst)\n"
      ],
      "metadata": {
        "colab": {
          "base_uri": "https://localhost:8080/"
        },
        "id": "1ULNGxzwGMc6",
        "outputId": "12e1c11c-5dc8-481a-8ed9-d5e0c82dfb62"
      },
      "execution_count": 20,
      "outputs": [
        {
          "output_type": "stream",
          "name": "stdout",
          "text": [
            "Inside function:\n",
            "num = 15\n",
            "my_list = [1, 2, 3, 100]\n",
            "\n",
            "Outside function:\n",
            "x = 5\n",
            "lst = [1, 2, 3, 100]\n"
          ]
        }
      ]
    },
    {
      "cell_type": "markdown",
      "source": [
        "# 7. Write a program that performs basic arithmetic operations on two user-input numbers.\n",
        "\n",
        "\n",
        " Here's a simple Python program that performs basic arithmetic operations (+, -, *, /, %) on two numbers entered by the user"
      ],
      "metadata": {
        "id": "Wf8h-IC-IcJu"
      }
    },
    {
      "cell_type": "code",
      "source": [
        "# Ask the user to enter two numbers\n",
        "num1 = float(input(\"Enter the first number: \"))\n",
        "num2 = float(input(\"Enter the second number: \"))\n",
        "\n",
        "# Perform basic arithmetic operations\n",
        "print(\"\\nArithmetic Operations:\")\n",
        "print(\"Addition:       \", num1 + num2)\n",
        "print(\"Subtraction:    \", num1 - num2)\n",
        "print(\"Multiplication: \", num1 * num2)\n",
        "\n",
        "# Handle division and modulo carefully to avoid divide-by-zero\n",
        "if num2 != 0:\n",
        "    print(\"Division:       \", num1 / num2)\n",
        "    print(\"Modulus:        \", num1 % num2)\n",
        "else:\n",
        "    print(\"Division:       Cannot divide by zero!\")\n",
        "    print(\"Modulus:        Cannot perform modulus with zero!\")\n"
      ],
      "metadata": {
        "colab": {
          "base_uri": "https://localhost:8080/"
        },
        "id": "w6U9qe6VIZgw",
        "outputId": "b221fe54-8ca0-4e64-f31d-dc0626795ece"
      },
      "execution_count": 21,
      "outputs": [
        {
          "output_type": "stream",
          "name": "stdout",
          "text": [
            "Enter the first number: 10\n",
            "Enter the second number: 3\n",
            "\n",
            "Arithmetic Operations:\n",
            "Addition:        13.0\n",
            "Subtraction:     7.0\n",
            "Multiplication:  30.0\n",
            "Division:        3.3333333333333335\n",
            "Modulus:         1.0\n"
          ]
        }
      ]
    },
    {
      "cell_type": "markdown",
      "source": [
        "# 8. Write a program to demonstrate the use of logical operators."
      ],
      "metadata": {
        "id": "KR--YvBBKnJD"
      }
    },
    {
      "cell_type": "code",
      "source": [
        "# Logical Operators Example\n",
        "\n",
        "# Input: Two numbers from the user\n",
        "a = int(input(\"Enter first number: \"))\n",
        "b = int(input(\"Enter second number: \"))\n",
        "\n",
        "# Check if both numbers are positive\n",
        "if a > 0 and b > 0:\n",
        "    print(\"Both numbers are positive \")\n",
        "else:\n",
        "    print(\"At least one number is not positive \")\n",
        "\n",
        "# Check if at least one number is even\n",
        "if a % 2 == 0 or b % 2 == 0:\n",
        "    print(\"At least one number is even \")\n",
        "else:\n",
        "    print(\"Both numbers are odd \")\n",
        "\n",
        "# Use of 'not' operator\n",
        "if not (a == b):\n",
        "    print(\"The numbers are not equal \")\n",
        "else:\n",
        "    print(\"Both numbers are equal \")\n"
      ],
      "metadata": {
        "colab": {
          "base_uri": "https://localhost:8080/"
        },
        "id": "mLdeIdg2J5dP",
        "outputId": "a684c26d-fd28-42bf-e68e-e090711a32b0"
      },
      "execution_count": 23,
      "outputs": [
        {
          "output_type": "stream",
          "name": "stdout",
          "text": [
            "Enter first number: 10\n",
            "Enter second number: 5\n",
            "Both numbers are positive \n",
            "At least one number is even \n",
            "The numbers are not equal \n"
          ]
        }
      ]
    },
    {
      "cell_type": "markdown",
      "source": [
        "# 9. Write a Python program to convert user input from string to integer, float, and boolean types."
      ],
      "metadata": {
        "id": "RQ5KY3WrRTwF"
      }
    },
    {
      "cell_type": "code",
      "source": [
        "# Take input from the user\n",
        "user_input = input(\"Enter a value: \")\n",
        "\n",
        "# Convert to integer\n",
        "try:\n",
        "    int_value = int(user_input)\n",
        "    print(\"Integer value:\", int_value)\n",
        "except ValueError:\n",
        "    print(\"Cannot convert to Integer ❌\")\n",
        "\n",
        "# Convert to float\n",
        "try:\n",
        "    float_value = float(user_input)\n",
        "    print(\"Float value:\", float_value)\n",
        "except ValueError:\n",
        "    print(\"Cannot convert to Float ❌\")\n",
        "\n",
        "# Convert to boolean\n",
        "# Any non-empty string (except \"False\", \"false\", \"0\") is usually considered True\n",
        "bool_value = bool(user_input) and user_input.lower() not in ['false', '0']\n",
        "print(\"Boolean value:\", bool_value)\n"
      ],
      "metadata": {
        "colab": {
          "base_uri": "https://localhost:8080/"
        },
        "id": "dfzSnZ0mQ2wg",
        "outputId": "bbd36eeb-fe70-4a17-a599-5ca35599caa7"
      },
      "execution_count": 24,
      "outputs": [
        {
          "output_type": "stream",
          "name": "stdout",
          "text": [
            "Enter a value: 10\n",
            "Integer value: 10\n",
            "Float value: 10.0\n",
            "Boolean value: True\n"
          ]
        }
      ]
    },
    {
      "cell_type": "markdown",
      "source": [
        "# 10. Write code to demonstrate type casting with list elements.\n"
      ],
      "metadata": {
        "id": "TN4f6YznTU-S"
      }
    },
    {
      "cell_type": "code",
      "source": [
        "# Original list of strings (user input numbers as strings)\n",
        "string_list = [\"10\", \"20\", \"30\", \"0\", \"-5\"]\n",
        "\n",
        "print(\"Original list (strings):\", string_list)\n",
        "\n",
        "# Convert to integers\n",
        "int_list = [int(item) for item in string_list]\n",
        "print(\"After converting to integers:\", int_list)\n",
        "\n",
        "# Convert to floats\n",
        "float_list = [float(item) for item in string_list]\n",
        "print(\"After converting to floats:\", float_list)\n",
        "\n",
        "# Convert to booleans\n",
        "# \"0\" becomes False, others become True\n",
        "bool_list = [bool(int(item)) for item in string_list]\n",
        "print(\"After converting to booleans:\", bool_list)\n"
      ],
      "metadata": {
        "colab": {
          "base_uri": "https://localhost:8080/"
        },
        "id": "2gUMJBy1TQlR",
        "outputId": "063679a9-872e-4295-f9a3-e43fea353825"
      },
      "execution_count": 25,
      "outputs": [
        {
          "output_type": "stream",
          "name": "stdout",
          "text": [
            "Original list (strings): ['10', '20', '30', '0', '-5']\n",
            "After converting to integers: [10, 20, 30, 0, -5]\n",
            "After converting to floats: [10.0, 20.0, 30.0, 0.0, -5.0]\n",
            "After converting to booleans: [True, True, True, False, True]\n"
          ]
        }
      ]
    },
    {
      "cell_type": "markdown",
      "source": [
        "# 11. Write a program that checks if a number is positive, negative, or zero."
      ],
      "metadata": {
        "id": "N-okLQVnWrZw"
      }
    },
    {
      "cell_type": "code",
      "source": [
        "# Take input from the user\n",
        "num = float(input(\"Enter a number: \"))\n",
        "\n",
        "# Check the number type\n",
        "if num > 0:\n",
        "    print(\"The number is Positive \")\n",
        "elif num < 0:\n",
        "    print(\"The number is Negative \")\n",
        "else:\n",
        "    print(\"The number is Zero \")\n"
      ],
      "metadata": {
        "colab": {
          "base_uri": "https://localhost:8080/"
        },
        "id": "qc5nuLWKWl5x",
        "outputId": "9be351a7-61c3-474e-d2c4-86445e7eadf9"
      },
      "execution_count": 26,
      "outputs": [
        {
          "output_type": "stream",
          "name": "stdout",
          "text": [
            "Enter a number: 10\n",
            "The number is Positive \n"
          ]
        }
      ]
    },
    {
      "cell_type": "markdown",
      "source": [
        "# 12. Write a for loop to print numbers from 1 to 10."
      ],
      "metadata": {
        "id": "so-MP5riYQlR"
      }
    },
    {
      "cell_type": "code",
      "source": [
        "# Using for loop with range to print numbers 1 to 10\n",
        "for i in range(1, 11):\n",
        "    print(i)\n"
      ],
      "metadata": {
        "colab": {
          "base_uri": "https://localhost:8080/"
        },
        "id": "IcRRTNlEX9g2",
        "outputId": "cc421ee4-1f33-4018-d6a9-0578dcd1a729"
      },
      "execution_count": 27,
      "outputs": [
        {
          "output_type": "stream",
          "name": "stdout",
          "text": [
            "1\n",
            "2\n",
            "3\n",
            "4\n",
            "5\n",
            "6\n",
            "7\n",
            "8\n",
            "9\n",
            "10\n"
          ]
        }
      ]
    },
    {
      "cell_type": "markdown",
      "source": [
        "# 13. Write a Python program to find the sum of all even numbers between 1 and 50."
      ],
      "metadata": {
        "id": "slC00AslYm9k"
      }
    },
    {
      "cell_type": "code",
      "source": [
        "# Initialize sum variable\n",
        "even_sum = 0\n",
        "\n",
        "# Loop through numbers from 1 to 50\n",
        "for i in range(1, 51):\n",
        "    if i % 2 == 0:\n",
        "        even_sum += i\n",
        "\n",
        "# Print the result\n",
        "print(\"Sum of all even numbers from 1 to 50 is:\", even_sum)\n"
      ],
      "metadata": {
        "colab": {
          "base_uri": "https://localhost:8080/"
        },
        "id": "DJio7QIZYiCx",
        "outputId": "3aee0eb3-94fd-4b9e-8fd4-597185c1a6e4"
      },
      "execution_count": 28,
      "outputs": [
        {
          "output_type": "stream",
          "name": "stdout",
          "text": [
            "Sum of all even numbers from 1 to 50 is: 650\n"
          ]
        }
      ]
    },
    {
      "cell_type": "markdown",
      "source": [
        "# 14. Write a program to reverse a string using a while loop."
      ],
      "metadata": {
        "id": "_k0uFG5wZGze"
      }
    },
    {
      "cell_type": "code",
      "source": [
        "# Take input from the user\n",
        "text = input(\"Enter a string: \")\n",
        "\n",
        "# Initialize index and reversed string\n",
        "index = len(text) - 1\n",
        "reversed_text = \"\"\n",
        "\n",
        "# Use while loop to reverse\n",
        "while index >= 0:\n",
        "    reversed_text += text[index]\n",
        "    index -= 1\n",
        "\n",
        "# Print the reversed string\n",
        "print(\"Reversed string is:\", reversed_text)\n"
      ],
      "metadata": {
        "colab": {
          "base_uri": "https://localhost:8080/"
        },
        "id": "YOSjbHrdYxgi",
        "outputId": "4b038650-9c79-4633-f213-3e7ab500e7fa"
      },
      "execution_count": 29,
      "outputs": [
        {
          "output_type": "stream",
          "name": "stdout",
          "text": [
            "Enter a string: hello\n",
            "Reversed string is: olleh\n"
          ]
        }
      ]
    },
    {
      "cell_type": "markdown",
      "source": [
        "# 15. Write a Python program to calculate the factorial of a number provided by the user using a while loop."
      ],
      "metadata": {
        "id": "3UEZNcu0ZS2e"
      }
    },
    {
      "cell_type": "code",
      "source": [
        "# Take input from the user\n",
        "num = int(input(\"Enter a non-negative integer: \"))\n",
        "\n",
        "# Check for valid input\n",
        "if num < 0:\n",
        "    print(\"Factorial is not defined for negative numbers ❌\")\n",
        "else:\n",
        "    factorial = 1\n",
        "    i = 1\n",
        "\n",
        "    while i <= num:\n",
        "        factorial *= i\n",
        "        i += 1\n",
        "\n",
        "    # Print the result\n",
        "    print(f\"Factorial of {num} is: {factorial}\")\n"
      ],
      "metadata": {
        "colab": {
          "base_uri": "https://localhost:8080/"
        },
        "id": "NOk3fK04ZMVJ",
        "outputId": "38faa43e-03f6-43b5-a78f-c690f78ffc6b"
      },
      "execution_count": 30,
      "outputs": [
        {
          "output_type": "stream",
          "name": "stdout",
          "text": [
            "Enter a non-negative integer: 5\n",
            "Factorial of 5 is: 120\n"
          ]
        }
      ]
    },
    {
      "cell_type": "code",
      "source": [],
      "metadata": {
        "id": "2RwZxvQOZcGK"
      },
      "execution_count": null,
      "outputs": []
    }
  ]
}